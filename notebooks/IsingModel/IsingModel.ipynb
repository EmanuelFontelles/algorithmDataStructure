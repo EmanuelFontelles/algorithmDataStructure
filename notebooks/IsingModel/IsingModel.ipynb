{
 "cells": [
  {
   "cell_type": "code",
   "execution_count": 6,
   "metadata": {},
   "outputs": [],
   "source": [
    "import numpy as np\n",
    "import matplotlib.pyplot as plt\n",
    "import matplotlib.animation as animation\n",
    "\n",
    "plt.style.use('seaborn')"
   ]
  },
  {
   "cell_type": "code",
   "execution_count": 2,
   "metadata": {},
   "outputs": [],
   "source": [
    "class isingModel:\n",
    "    \"\"\"A class to create a lattice to generate Ising Model\n",
    "\n",
    "    Attributes:\n",
    "        N: The number of lines of lattice\n",
    "        M: The number of columms of lattice\n",
    "        beta: The parameter that represent the inverse of temperature\n",
    "        \n",
    "    Return:\n",
    "        A class python object with several methods:\n",
    "            + display_spin_field()\n",
    "            + ising_step()\n",
    "            + animation()            \n",
    "    \"\"\"    \n",
    "    def __init__(self, N, M, beta):\n",
    "        self.N = N\n",
    "        self.M = M\n",
    "        self.beta = beta\n",
    "        self.field = np.random.choice([-1, 1], size=(self.N, self.M))\n",
    "        self.images = [self.field]\n",
    "\n",
    "    def display_spin_field(self):\n",
    "        return Image.fromarray(np.uint8((self.field + 1) * 0.5 * 255))\n",
    "\n",
    "    def ising_step(self):\n",
    "        N, M = self.field.shape\n",
    "        for n_offset in range(2):\n",
    "            for m_offset in range(2):\n",
    "                for n in range(n_offset, N, 2):\n",
    "                    for m in range(m_offset, M, 2):\n",
    "                        self._ising_update(n, m)\n",
    "        return self.field\n",
    "    \n",
    "    def _ising_update(self, n, m):\n",
    "        total = 0\n",
    "        N, M = self.field.shape\n",
    "        for i in range(n-1, n+2):\n",
    "            for j in range(m-1, m+2):\n",
    "                if i == n and j == m:\n",
    "                    continue\n",
    "                total += self.field[i % N, j % M]\n",
    "        dE = 2 * self.field[n, m] * total\n",
    "        if dE <= 0:\n",
    "            self.field[n, m] *= -1\n",
    "        elif np.exp(-dE * self.beta) > np.random.rand():\n",
    "            self.field[n, m] *= -1          "
   ]
  },
  {
   "cell_type": "code",
   "execution_count": 12,
   "metadata": {},
   "outputs": [],
   "source": [
    "lattice = isingModel(200,200, 0.4)"
   ]
  },
  {
   "cell_type": "code",
   "execution_count": 15,
   "metadata": {},
   "outputs": [],
   "source": [
    "fig, ax = plt.subplots(figsize=(8, 8))\n",
    "\n",
    "def update(i):\n",
    "    ax.imshow(lattice.ising_step(), cmap=plt.cm.inferno_r)\n",
    "#     plt.tight_layout()\n",
    "    ax.set_axis_off()\n",
    "\n",
    "anim = animation.FuncAnimation(fig, update, frames=30, interval=50)\n",
    "anim.save('./simulation/isingModel.gif', dpi=80, writer='imagemagick')\n",
    "plt.close()"
   ]
  },
  {
   "cell_type": "code",
   "execution_count": null,
   "metadata": {},
   "outputs": [],
   "source": []
  }
 ],
 "metadata": {
  "kernelspec": {
   "display_name": "Python 3",
   "language": "python",
   "name": "python3"
  },
  "language_info": {
   "codemirror_mode": {
    "name": "ipython",
    "version": 3
   },
   "file_extension": ".py",
   "mimetype": "text/x-python",
   "name": "python",
   "nbconvert_exporter": "python",
   "pygments_lexer": "ipython3",
   "version": "3.7.0"
  }
 },
 "nbformat": 4,
 "nbformat_minor": 2
}
