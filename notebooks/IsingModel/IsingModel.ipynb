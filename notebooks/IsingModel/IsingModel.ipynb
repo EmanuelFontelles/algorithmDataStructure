{
 "cells": [
  {
   "cell_type": "markdown",
   "metadata": {},
   "source": [
    "<!-- PELICAN_BEGIN_SUMMARY -->\n",
    "\n",
    "Python is quick and easy to code, but can be slow when doing intensive numerical operations. Translating code to Cython can be helpful, but in most cases requires a bit of trial and error to achieve the optimal result. [Cython's tutorials](http://cython.readthedocs.io/en/latest/src/tutorial/) contain a lot of information, but for iterative workflows like optimization with Cython, it's often useful to see it done \"live\".\n",
    "\n",
    "For that reason, I decided to record some screencasts showing this iterative optimization process, using an  [Ising Model](https://en.wikipedia.org/wiki/Ising_model), as an example application.\n",
    "\n",
    "<!-- PELICAN_END_SUMMARY -->"
   ]
  },
  {
   "cell_type": "markdown",
   "metadata": {},
   "source": [
    "## When to use Cython\n",
    "\n",
    "Before I get to the videos, I wanted to say a few words about *when* and *why* you might choose Cython.\n",
    "\n",
    "With scientific Python code, before turning to Cython I'd suggest going as far as you can with *vectorization*.\n",
    "Vectorization involves the judicious use of built-in routines in NumPy, SciPy, Pandas, and other libraries to reduce the number of explicit for-loops in your code. It can work quite well in many situations, and doesn't require any sort of special compilation step in running your code. See my PyCon 2015 talk, [Losing Your Loops](https://www.youtube.com/watch?v=EEUXKG97YRw) for an intro to this approach.\n",
    "\n",
    "When a problem cannot be easily solved using standard vectorization approaches, Cython is a good choice.\n",
    "Cython provides a bridge between Python and C code, and is quite mature and reliable: it forms the basis of much of the PyData/Scientific Python ecosystem (for example, Cython is used heavily in NumPy, SciPy, Pandas, Scikit-Learn, and many other packages).\n",
    "\n",
    "Other approaches to optimizing Python code are available, but I tend not to use them as often as Cython:\n",
    "\n",
    "The [PyPy](https://pypy.org/) project is an alternative implementation of Python that avoids the slow loops of the default CPython implementation. Although it is quite promising, it currently does not support many of the core scientific packages, so is not the best choice for scientific code (though that has been changing).\n",
    "\n",
    "[Numba](http://numba.pydata.org/) is a Python-to-LLVM converter which can often give you 100x speedups in Python by adding a simple compilation decorator to Python functions. For an example of Numba being used on code like that in this notebook, see [Matthew Rocklin's post](http://matthewrocklin.com/blog/work/2015/02/28/Ising). Though it is convenient, Numba doesn't support all Python constructs yet, and can be difficult to optimize when the most straightforward approach fails."
   ]
  },
  {
   "cell_type": "markdown",
   "metadata": {},
   "source": [
    "## Videos\n",
    "\n",
    "Finally, here are the demos of using Cython to optimize an Ising model."
   ]
  },
  {
   "cell_type": "code",
   "execution_count": 1,
   "metadata": {},
   "outputs": [],
   "source": [
    "from IPython.display import YouTubeVideo"
   ]
  },
  {
   "cell_type": "markdown",
   "metadata": {},
   "source": [
    "### Part 1\n",
    "\n",
    "In part 1, I write a function to evolve an Ising model in Python, along with some tools to visualize the resulting evolution:"
   ]
  },
  {
   "cell_type": "code",
   "execution_count": 2,
   "metadata": {},
   "outputs": [
    {
     "data": {
      "image/jpeg": "[encoded data removed]",
      "text/html": [
       "\n",
       "        <iframe\n",
       "            width=\"600\"\n",
       "            height=\"350\"\n",
       "            src=\"https://www.youtube.com/embed/rN7g4gzO2sk\"\n",
       "            frameborder=\"0\"\n",
       "            allowfullscreen\n",
       "        ></iframe>\n",
       "        "
      ],
      "text/plain": [
       "<IPython.lib.display.YouTubeVideo at 0x7f01337ef6a0>"
      ]
     },
     "execution_count": 2,
     "metadata": {},
     "output_type": "execute_result"
    }
   ],
   "source": [
    "YouTubeVideo('rN7g4gzO2sk', width=600, height=350)"
   ]
  },
  {
   "cell_type": "markdown",
   "metadata": {},
   "source": [
    "### Part 2"
   ]
  },
  {
   "cell_type": "markdown",
   "metadata": {},
   "source": [
    "In part 2, I go through the process of optimizing this function with Cython:"
   ]
  },
  {
   "cell_type": "code",
   "execution_count": 3,
   "metadata": {},
   "outputs": [
    {
     "data": {
      "image/jpeg": "[encoded data removed]",
      "text/html": [
       "\n",
       "        <iframe\n",
       "            width=\"600\"\n",
       "            height=\"350\"\n",
       "            src=\"https://www.youtube.com/embed/LOzcSuw3yOY\"\n",
       "            frameborder=\"0\"\n",
       "            allowfullscreen\n",
       "        ></iframe>\n",
       "        "
      ],
      "text/plain": [
       "<IPython.lib.display.YouTubeVideo at 0x7f01337efa20>"
      ]
     },
     "execution_count": 3,
     "metadata": {},
     "output_type": "execute_result"
    }
   ],
   "source": [
    "YouTubeVideo('LOzcSuw3yOY', width=600, height=350)"
   ]
  },
  {
   "cell_type": "markdown",
   "metadata": {},
   "source": [
    "### 1. Simple Python Ising Model"
   ]
  },
  {
   "cell_type": "markdown",
   "metadata": {},
   "source": [
    "#### Implementing the Ising Model"
   ]
  },
  {
   "cell_type": "code",
   "execution_count": 31,
   "metadata": {},
   "outputs": [],
   "source": [
    "class isingModel:\n",
    "    import numpy as np\n",
    "    from PIL import Image\n",
    "    from ipywidgets import interact    \n",
    "    \n",
    "    def __init__(self, N, M):\n",
    "        self.N = N\n",
    "        self.M = M\n",
    "        self.field = np.random.choice([-1, 1], size=(self.N, self.M))\n",
    "        self.images = [self.field]\n",
    "\n",
    "    def display_spin_field(self):\n",
    "        return Image.fromarray(np.uint8((self.field + 1) * 0.5 * 255))\n",
    "\n",
    "    def ising_step(self, beta=0.4):\n",
    "        N, M = self.field.shape\n",
    "        for n_offset in range(2):\n",
    "            for m_offset in range(2):\n",
    "                for n in range(n_offset, N, 2):\n",
    "                    for m in range(m_offset, M, 2):\n",
    "                        _ising_update(self.field, n, m, beta)\n",
    "        return self.field\n",
    "\n",
    "    def _ising_update(self, n, m, beta):\n",
    "        total = 0\n",
    "        N, M = self.field.shape\n",
    "        for i in range(n-1, n+2):\n",
    "            for j in range(m-1, m+2):\n",
    "                if i == n and j == m:\n",
    "                    continue\n",
    "                total += self.field[i % N, j % M]\n",
    "        dE = 2 * self.field[n, m] * total\n",
    "        if dE <= 0:\n",
    "            self.field[n, m] *= -1\n",
    "        elif np.exp(-dE * beta) > np.random.rand():\n",
    "            self.field[n, m] *= -1\n",
    "\n",
    "    def display_ising_sequence(self):\n",
    "        return interact(_show)            \n",
    "\n",
    "    def _show(self):\n",
    "        frame=(0, len(self.images) - 1)\n",
    "        return display_spin_field(self.images[frame])    \n",
    "    \n",
    "    def animation(self, interaction):\n",
    "        for i in range(interaction):\n",
    "            self.images.append(ising_step(self.images[-1].copy()))\n",
    "        display_ising_sequence(self.images)"
   ]
  },
  {
   "cell_type": "code",
   "execution_count": 35,
   "metadata": {},
   "outputs": [
    {
     "data": {
      "image/png": "[encoded data removed]",
      "text/plain": [
       "<PIL.Image.Image image mode=L size=200x200 at 0x7FF350FAFB70>"
      ]
     },
     "execution_count": 35,
     "metadata": {},
     "output_type": "execute_result"
    }
   ],
   "source": [
    "lattice = isingModel(200,200)\n",
    "lattice.display_spin_field()"
   ]
  },
  {
   "cell_type": "code",
   "execution_count": 37,
   "metadata": {},
   "outputs": [
    {
     "data": {
      "application/vnd.jupyter.widget-view+json": {
       "model_id": "e438a30d1efd4b5086005564c8d90148",
       "version_major": 2,
       "version_minor": 0
      },
      "text/plain": [
       "interactive(children=(IntSlider(value=55, description='frame', max=110), Output()), _dom_classes=('widget-inte…"
      ]
     },
     "metadata": {},
     "output_type": "display_data"
    }
   ],
   "source": [
    "lattice.animation(100)"
   ]
  },
  {
   "cell_type": "code",
   "execution_count": null,
   "metadata": {},
   "outputs": [],
   "source": []
  }
 ],
 "metadata": {
  "kernelspec": {
   "display_name": "Python 3",
   "language": "python",
   "name": "python3"
  },
  "language_info": {
   "codemirror_mode": {
    "name": "ipython",
    "version": 3
   },
   "file_extension": ".py",
   "mimetype": "text/x-python",
   "name": "python",
   "nbconvert_exporter": "python",
   "pygments_lexer": "ipython3",
   "version": "3.7.0"
  }
 },
 "nbformat": 4,
 "nbformat_minor": 2
}
