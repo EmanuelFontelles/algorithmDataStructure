{
 "cells": [
  {
   "cell_type": "code",
   "execution_count": 31,
   "metadata": {},
   "outputs": [],
   "source": [
    "class isingModel:\n",
    "    import numpy as np\n",
    "    from PIL import Image\n",
    "    from ipywidgets import interact    \n",
    "    \n",
    "    def __init__(self, N, M):\n",
    "        self.N = N\n",
    "        self.M = M\n",
    "        self.field = np.random.choice([-1, 1], size=(self.N, self.M))\n",
    "        self.images = [self.field]\n",
    "\n",
    "    def display_spin_field(self):\n",
    "        return Image.fromarray(np.uint8((self.field + 1) * 0.5 * 255))\n",
    "\n",
    "    def ising_step(self, beta=0.4):\n",
    "        N, M = self.field.shape\n",
    "        for n_offset in range(2):\n",
    "            for m_offset in range(2):\n",
    "                for n in range(n_offset, N, 2):\n",
    "                    for m in range(m_offset, M, 2):\n",
    "                        _ising_update(self.field, n, m, beta)\n",
    "        return self.field\n",
    "\n",
    "    def _ising_update(self, n, m, beta):\n",
    "        total = 0\n",
    "        N, M = self.field.shape\n",
    "        for i in range(n-1, n+2):\n",
    "            for j in range(m-1, m+2):\n",
    "                if i == n and j == m:\n",
    "                    continue\n",
    "                total += self.field[i % N, j % M]\n",
    "        dE = 2 * self.field[n, m] * total\n",
    "        if dE <= 0:\n",
    "            self.field[n, m] *= -1\n",
    "        elif np.exp(-dE * beta) > np.random.rand():\n",
    "            self.field[n, m] *= -1\n",
    "\n",
    "    def display_ising_sequence(self):\n",
    "        return interact(_show)            \n",
    "\n",
    "    def _show(self):\n",
    "        frame=(0, len(self.images) - 1)\n",
    "        return display_spin_field(self.images[frame])    \n",
    "    \n",
    "    def animation(self, interaction):\n",
    "        for i in range(interaction):\n",
    "            self.images.append(ising_step(self.images[-1].copy()))\n",
    "        display_ising_sequence(self.images)"
   ]
  },
  {
   "cell_type": "code",
   "execution_count": 35,
   "metadata": {},
   "outputs": [
    {
     "data": {
      "image/png": "[encoded data removed]",
      "text/plain": [
       "<PIL.Image.Image image mode=L size=200x200 at 0x7FF350FAFB70>"
      ]
     },
     "execution_count": 35,
     "metadata": {},
     "output_type": "execute_result"
    }
   ],
   "source": [
    "lattice = isingModel(200,200)\n",
    "lattice.display_spin_field()"
   ]
  },
  {
   "cell_type": "code",
   "execution_count": 37,
   "metadata": {},
   "outputs": [
    {
     "data": {
      "application/vnd.jupyter.widget-view+json": {
       "model_id": "e438a30d1efd4b5086005564c8d90148",
       "version_major": 2,
       "version_minor": 0
      },
      "text/plain": [
       "interactive(children=(IntSlider(value=55, description='frame', max=110), Output()), _dom_classes=('widget-inte…"
      ]
     },
     "metadata": {},
     "output_type": "display_data"
    }
   ],
   "source": [
    "lattice.animation(100)"
   ]
  },
  {
   "cell_type": "code",
   "execution_count": null,
   "metadata": {},
   "outputs": [],
   "source": []
  }
 ],
 "metadata": {
  "kernelspec": {
   "display_name": "Python 3",
   "language": "python",
   "name": "python3"
  },
  "language_info": {
   "codemirror_mode": {
    "name": "ipython",
    "version": 3
   },
   "file_extension": ".py",
   "mimetype": "text/x-python",
   "name": "python",
   "nbconvert_exporter": "python",
   "pygments_lexer": "ipython3",
   "version": "3.7.0"
  }
 },
 "nbformat": 4,
 "nbformat_minor": 2
}
