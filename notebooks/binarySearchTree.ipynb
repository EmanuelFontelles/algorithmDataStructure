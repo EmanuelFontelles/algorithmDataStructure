{
 "cells": [
  {
   "cell_type": "code",
   "execution_count": null,
   "metadata": {},
   "outputs": [],
   "source": [
    "# Python program to demonstrate insert operation in binary search tree \n",
    " \n",
    "# A utility class that represents an individual node in a BST\n",
    "class Node:\n",
    "    def __init__(self,key):\n",
    "        self.left = None\n",
    "        self.right = None\n",
    "        self.val = key\n",
    " \n",
    "# A utility function to insert a new node with the given key\n",
    "def insert(root,node):\n",
    "    if root is None:\n",
    "        root = node\n",
    "    else:\n",
    "        if root.val < node.val:\n",
    "            if root.right is None:\n",
    "                root.right = node\n",
    "            else:\n",
    "                insert(root.right, node)\n",
    "        else:\n",
    "            if root.left is None:\n",
    "                root.left = node\n",
    "            else:\n",
    "                insert(root.left, node)\n",
    " \n",
    "# A utility function to do inorder tree traversal\n",
    "def inorder(root):\n",
    "    if root:\n",
    "        inorder(root.left)\n",
    "        print(root.val)\n",
    "        inorder(root.right)\n",
    " \n",
    " \n",
    "# Driver program to test the above functions\n",
    "# Let us create the following BST\n",
    "#      50\n",
    "#    /      \\\n",
    "#   30     70\n",
    "#   / \\    / \\\n",
    "#  20 40  60 80\n",
    "r = Node(50)\n",
    "insert(r,Node(30))\n",
    "insert(r,Node(20))\n",
    "insert(r,Node(40))\n",
    "insert(r,Node(70))\n",
    "insert(r,Node(60))\n",
    "insert(r,Node(80))\n",
    " \n",
    "# Print inoder traversal of the BST\n",
    "inorder(r)"
   ]
  }
 ],
 "metadata": {
  "kernelspec": {
   "display_name": "Python 3",
   "language": "python",
   "name": "python3"
  },
  "language_info": {
   "codemirror_mode": {
    "name": "ipython",
    "version": 3
   },
   "file_extension": ".py",
   "mimetype": "text/x-python",
   "name": "python",
   "nbconvert_exporter": "python",
   "pygments_lexer": "ipython3",
   "version": "3.6.6"
  }
 },
 "nbformat": 4,
 "nbformat_minor": 2
}
