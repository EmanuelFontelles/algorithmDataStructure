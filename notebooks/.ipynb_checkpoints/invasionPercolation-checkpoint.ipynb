{
 "cells": [
  {
   "cell_type": "code",
   "execution_count": 3,
   "metadata": {},
   "outputs": [],
   "source": [
    "import numpy as np\n",
    "import numpy.random as npr\n",
    "import sys\n",
    "import heapq"
   ]
  },
  {
   "cell_type": "code",
   "execution_count": 4,
   "metadata": {},
   "outputs": [],
   "source": [
    "push = heapq.heappush\n",
    "pop = heapq.heappop"
   ]
  },
  {
   "cell_type": "code",
   "execution_count": 5,
   "metadata": {},
   "outputs": [],
   "source": [
    "def invperc(L):\n",
    "    L = int(L)\n",
    "\n",
    "    adj = [(-1, 0, 0), (1, 0, 0), (0, -1, 0), (0, 1, 0), (0, 0, -1), (0, 0, 1)]\n",
    "\n",
    "    visited = np.zeros((L + 1, L, L), dtype = bool)\n",
    "\n",
    "    rs = npr.random((6 * (L + 1) * L * L,))\n",
    "\n",
    "    i = 0\n",
    "    q = []\n",
    "    for y in range(L):\n",
    "        for z in range(L):\n",
    "            q.append((0, 0, y, z))\n",
    "\n",
    "    #print(q)\n",
    "            \n",
    "    while len(q) > 0:\n",
    "        p, x, y, z = pop(q)\n",
    "\n",
    "        if not visited[x, y, z]:\n",
    "            visited[x, y, z] = True\n",
    "\n",
    "            if x == L:\n",
    "                break\n",
    "\n",
    "            for dx, dy, dz in adj:\n",
    "                x_ = x + dx\n",
    "                y_ = (y + dy) % L\n",
    "                z_ = (z + dz) % L\n",
    "                if x_ > 0 and not visited[x_, y_, z_]:\n",
    "                    push(q, (rs[i], x_, y_, z_))\n",
    "                    i += 1\n",
    "\n",
    "    return visited"
   ]
  },
  {
   "cell_type": "code",
   "execution_count": 6,
   "metadata": {},
   "outputs": [],
   "source": [
    "def invperc2(L):\n",
    "    L = int(L)\n",
    "\n",
    "    adj = [(-1, 0), (1, 0), (0, -1), (0, 1)]\n",
    "\n",
    "    visited = np.zeros((L + 1, L), dtype = bool)\n",
    "\n",
    "    rs = npr.random((6 * (L + 1) * L,))\n",
    "\n",
    "    i = 0\n",
    "    q = []\n",
    "    for y in range(L):\n",
    "        q.append((0, 0, y))\n",
    "\n",
    "    while len(q) > 0:\n",
    "        p, x, y = pop(q)\n",
    "\n",
    "        if not visited[x, y]:\n",
    "            visited[x, y] = True\n",
    "\n",
    "            if x == L:\n",
    "                break\n",
    "\n",
    "            for dx, dy in adj:\n",
    "                x_ = x + dx\n",
    "                y_ = (y + dy) % L\n",
    "                if x_ > 0 and not visited[x_, y_]:\n",
    "                    push(q, (rs[i], x_, y_))\n",
    "                    i += 1\n",
    "\n",
    "    return visited"
   ]
  },
  {
   "cell_type": "code",
   "execution_count": null,
   "metadata": {},
   "outputs": [],
   "source": [
    "%%time\n",
    "L = int(2**14)\n",
    "siteVisited = invperc2(L)"
   ]
  },
  {
   "cell_type": "code",
   "execution_count": 8,
   "metadata": {},
   "outputs": [
    {
     "data": {
      "text/plain": [
       "347101"
      ]
     },
     "execution_count": 8,
     "metadata": {},
     "output_type": "execute_result"
    }
   ],
   "source": [
    "np.sum(siteVisited[:,:])"
   ]
  },
  {
   "cell_type": "code",
   "execution_count": 9,
   "metadata": {},
   "outputs": [],
   "source": [
    "import seaborn as sns\n",
    "import matplotlib.pyplot as plt\n",
    "%matplotlib inline"
   ]
  },
  {
   "cell_type": "code",
   "execution_count": 10,
   "metadata": {},
   "outputs": [
    {
     "data": {
      "image/png": "[encoded data removed]",
      "text/plain": [
       "<Figure size 432x288 with 2 Axes>"
      ]
     },
     "metadata": {},
     "output_type": "display_data"
    }
   ],
   "source": [
    "fig = plt.figure()\n",
    "ax = plt.subplot(111)\n",
    "\n",
    "sns.heatmap(siteVisited, ax=ax, cmap=plt.cm.viridis)\n",
    "ax.set_axis_off()"
   ]
  }
 ],
 "metadata": {
  "kernelspec": {
   "display_name": "Python 3",
   "language": "python",
   "name": "python3"
  },
  "language_info": {
   "codemirror_mode": {
    "name": "ipython",
    "version": 3
   },
   "file_extension": ".py",
   "mimetype": "text/x-python",
   "name": "python",
   "nbconvert_exporter": "python",
   "pygments_lexer": "ipython3",
   "version": "3.7.0"
  }
 },
 "nbformat": 4,
 "nbformat_minor": 2
}
