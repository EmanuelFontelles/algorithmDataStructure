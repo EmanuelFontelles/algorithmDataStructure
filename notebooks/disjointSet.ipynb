{
 "cells": [
  {
   "cell_type": "code",
   "execution_count": 3,
   "metadata": {},
   "outputs": [
    {
     "name": "stdout",
     "output_type": "stream",
     "text": [
      "Graph contains cycle\n"
     ]
    }
   ],
   "source": [
    "# Python Program for union-find algorithm to detect cycle in a undirected graph\n",
    "# we have one egde for any two vertex i.e 1-2 is either 1-2 or 2-1 but not both\n",
    "  \n",
    "from collections import defaultdict\n",
    "  \n",
    "#This class represents a undirected graph using adjacency list representation\n",
    "class Graph:\n",
    "  \n",
    "    def __init__(self,vertices):\n",
    "        self.V= vertices #No. of vertices\n",
    "        self.graph = defaultdict(list) # default dictionary to store graph\n",
    "  \n",
    " \n",
    "    # function to add an edge to graph\n",
    "    def addEdge(self,u,v):\n",
    "        self.graph[u].append(v)\n",
    "  \n",
    "    # A utility function to find the subset of an element i\n",
    "    def find_parent(self, parent,i):\n",
    "        if parent[i] == -1:\n",
    "            return i\n",
    "        if parent[i]!= -1:\n",
    "             return self.find_parent(parent,parent[i])\n",
    " \n",
    "    # A utility function to do union of two subsets\n",
    "    def union(self,parent,x,y):\n",
    "        x_set = self.find_parent(parent, x)\n",
    "        y_set = self.find_parent(parent, y)\n",
    "        parent[x_set] = y_set\n",
    " \n",
    "  \n",
    "  \n",
    "    # The main function to check whether a given graph\n",
    "    # contains cycle or not\n",
    "    def isCyclic(self):\n",
    "         \n",
    "        # Allocate memory for creating V subsets and\n",
    "        # Initialize all subsets as single element sets\n",
    "        parent = [-1]*(self.V)\n",
    " \n",
    "        # Iterate through all edges of graph, find subset of both\n",
    "        # vertices of every edge, if both subsets are same, then\n",
    "        # there is cycle in graph.\n",
    "        for i in self.graph:\n",
    "            for j in self.graph[i]:\n",
    "                x = self.find_parent(parent, i) \n",
    "                y = self.find_parent(parent, j)\n",
    "                if x == y:\n",
    "                    return True\n",
    "                self.union(parent,x,y)\n",
    " \n",
    " \n",
    "# Create a graph given in the above diagram\n",
    "g = Graph(3)\n",
    "g.addEdge(0, 1)\n",
    "g.addEdge(1, 2)\n",
    "g.addEdge(2, 0)\n",
    " \n",
    "if g.isCyclic():\n",
    "    print (\"Graph contains cycle\")\n",
    "else :\n",
    "    print (\"Graph does not contain cycle \")"
   ]
  }
 ],
 "metadata": {
  "kernelspec": {
   "display_name": "Python 3",
   "language": "python",
   "name": "python3"
  },
  "language_info": {
   "codemirror_mode": {
    "name": "ipython",
    "version": 3
   },
   "file_extension": ".py",
   "mimetype": "text/x-python",
   "name": "python",
   "nbconvert_exporter": "python",
   "pygments_lexer": "ipython3",
   "version": "3.6.6"
  }
 },
 "nbformat": 4,
 "nbformat_minor": 2
}
