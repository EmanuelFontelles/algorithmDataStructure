{
 "cells": [
  {
   "cell_type": "markdown",
   "metadata": {},
   "source": [
    "<img src=\"./images/tree.png\"\n",
    "     width=\"150\" height=\"100\"\n",
    "     style=\"float: left; margin-right: 5px;\" />\n",
    "***\n",
    "\n",
    "# Algorithms and Data Structure\n",
    "[![License](https://img.shields.io/badge/License-Apache%202.0-blue.svg)](https://opensource.org/licenses/Apache-2.0)\n",
    "[![Binder](https://mybinder.org/badge.svg)](https://mybinder.org/v2/gh/EmanuelFontelles/algorithmDataStructure.git/master?filepath=index.ipynb)\n",
    "\n",
    "[binder_lab]: https://mybinder.org/v2/gh/EmanuelFontelles/algorithmDataStructure.git/master?filepath=index.ipynb\n",
    "\n",
    "\n",
    "> This repo is developed by [Emanuel Fontelles](https://github.com/emanuelfontelles).*\n",
    ">\n",
    "> Theses algorithms contained here are compilations from the classes of [Prof. André Auto Moreira](https://scholar.google.com/citations?user=Bnw-fLYAAAAJ&hl=pt-PT) at Universidade Federal do Ceará, Fortaleza - CE/Brazil.\n",
    "\n",
    "## Algorithms:\n",
    "* [Binary Search](./notebooks/binarySearch.ipynb)\n",
    "* [Binary Search Tree (Search and Insertion)](./notebooks/binarySearchTree.ipynb)\n",
    "* [Disjoint Sets](./notebooks/disjointSet.ipynb)"
   ]
  }
 ],
 "metadata": {
  "kernelspec": {
   "display_name": "Python 3",
   "language": "python",
   "name": "python3"
  },
  "language_info": {
   "codemirror_mode": {
    "name": "ipython",
    "version": 3
   },
   "file_extension": ".py",
   "mimetype": "text/x-python",
   "name": "python",
   "nbconvert_exporter": "python",
   "pygments_lexer": "ipython3",
   "version": "3.6.6"
  }
 },
 "nbformat": 4,
 "nbformat_minor": 2
}
