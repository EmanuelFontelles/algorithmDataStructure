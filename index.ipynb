{
 "cells": [
  {
   "cell_type": "markdown",
   "metadata": {},
   "source": [
    "<img src=\"./images/tree.png\"\n",
    "     width=\"150\" height=\"100\"\n",
    "     style=\"float: left; margin-right: 5px;\" />\n",
    "***\n",
    "\n",
    "# Algorithms and Data Structure\n",
    "[![License](https://img.shields.io/badge/License-Apache%202.0-blue.svg)](https://opensource.org/licenses/Apache-2.0)\n",
    "[![Binder](https://mybinder.org/badge.svg)]([![Binder](https://mybinder.org/badge.svg)](https://mybinder.org/v2/gh/EmanuelFontelles/algorithmDataStructure.git/master?filepath=index.ipynb))\n",
    "\n",
    "[binder_lab]: https://mybinder.org/v2/gh/EmanuelFontelles/algorithmDataStructure.git/master?filepath=index.ipynb\n",
    "\n",
    "\n",
    "> This repo is developed by [Emanuel Fontelles](https://github.com/emanuelfontelles).*\n",
    ">\n",
    "> Theses algorithms contained here are compilations from the classes of [Prof. André Auto Moreira](https://scholar.google.com/citations?user=Bnw-fLYAAAAJ&hl=pt-PT) at Universidade Federal do Ceará, Fortaleza - CE/Brazil.\n",
    "\n",
    "## Algorithms:\n",
    "* [Binary Search](./binarySearch.ipynb)\n",
    "* [Binary Search Tree (Search and Insertion)](binarySearchTree.ipynb)\n",
    "* [Disjoint Sets](disjointSet.ipynb)\n",
    "\n",
    "## Usage\n",
    "\n",
    "Click the [binder badge][binder_lab] to play with the notebooks from your\n",
    "browser without installing anything.\n",
    "\n",
    "For a local installation, you will need [git], [Python], and packages from the\n",
    "[Python scientific stack][scipy]. If you don't know how to install those on\n",
    "your platform, we recommend to install [Miniconda], a distribution of the\n",
    "[conda] package and environment manager. Please follow the below instructions\n",
    "to install it and create an environment for the course.\n",
    "\n",
    "1. Download the Python 3.x installer for Windows, macOS, or Linux from\n",
    "   <https://conda.io/miniconda.html> and install with default settings. Skip\n",
    "   this step if you have conda already installed (from [Miniconda] or\n",
    "   [Anaconda]). Linux users may prefer to use their package manager.\n",
    "   * Windows: Double-click on the `.exe` file.\n",
    "   * macOS: Run `bash Miniconda3-latest-MacOSX-x86_64.sh` in your terminal.\n",
    "   * Linux: Run `bash Miniconda3-latest-Linux-x86_64.sh` in your terminal.\n",
    "1. Open a terminal. Windows: open the Anaconda Prompt from the Start menu.\n",
    "\n",
    "Every time you want to work, do the following:\n",
    "\n",
    "1. Open a terminal. Windows: open the Anaconda Prompt from the Start menu.\n",
    "1. Start Jupyter with `jupyter notebook` or `jupyter lab`. The command should\n",
    "   open a new tab in your web browser.\n",
    "1. Edit and run the notebooks from your browser.\n",
    "\n",
    "[git]: https://git-scm.com\n",
    "[python]: https://www.python.org\n",
    "[scipy]: https://www.scipy.org\n",
    "[anaconda]: https://anaconda.org\n",
    "[miniconda]: https://conda.io/miniconda.html\n",
    "[conda]: https://conda.io\n",
    "[conda-forge]: https://conda-forge.org\n",
    "\n",
    "## Disclaimer\n",
    "This is a personal repository that is not meant for public use at this time. It is provided \"as is\", without warranty of any kind, express or implied, including but not limited to the warranties of merchantability, fitness for a particular purpose, and noninfringement. No installation or technical support will be provided.\n"
   ]
  }
 ],
 "metadata": {
  "kernelspec": {
   "display_name": "Python 3",
   "language": "python",
   "name": "python3"
  },
  "language_info": {
   "codemirror_mode": {
    "name": "ipython",
    "version": 3
   },
   "file_extension": ".py",
   "mimetype": "text/x-python",
   "name": "python",
   "nbconvert_exporter": "python",
   "pygments_lexer": "ipython3",
   "version": "3.6.6"
  }
 },
 "nbformat": 4,
 "nbformat_minor": 2
}
